{
 "cells": [
  {
   "cell_type": "code",
   "execution_count": 5,
   "metadata": {},
   "outputs": [
    {
     "name": "stdout",
     "output_type": "stream",
     "text": [
      "Look at you shinin!\n"
     ]
    }
   ],
   "source": [
    "import bs4 as bs\n",
    "import urllib.request\n",
    "import sys\n",
    "from PyQt5 import QtCore, QtGui, QtWidgets\n",
    "from PyQt5.QtCore import *\n",
    "from PyQt5.QtGui import *\n",
    "from PyQt5.QtWidgets import *\n",
    "from PyQt5.QtWebKit import *\n",
    "from PyQt5.QtWebKitWidgets import *\n",
    "from PyQt5.QtWidgets import QApplication, QWidget, QMainWindow\n",
    "\n",
    "class Client(QWebPage):\n",
    "    def __init__(self, url):\n",
    "        self.app = QApplication(sys.argv)\n",
    "        QWebPage.__init__(self)\n",
    "        self.loadFinished.connect(self.on_page_load)\n",
    "        self.mainFrame().load(QUrl(url))\n",
    "        self.app.exec_()\n",
    "        #loading \n",
    "        #로드가 끝나면 ACCESS the url\n",
    "        \n",
    "    def on_page_load(self):\n",
    "        self.app.quit()\n",
    "        \n",
    "        \n",
    "url = 'https://pythonprogramming.net/parsememcparseface/'        \n",
    "client_response = Client(url)\n",
    "source = client_response.mainFrame().toHtml()\n",
    "# source = urllib.request.urlopen('https://pythonprogramming.net/parsememcparseface/')\n",
    "soup = bs.BeautifulSoup(source, 'lxml')\n",
    "js_test = soup.find('p', class_=\"jstest\")\n",
    "print(js_test.text)"
   ]
  },
  {
   "cell_type": "markdown",
   "metadata": {
    "collapsed": true
   },
   "source": [
    "PyQt5 supports a widget that displays websites named QWebView."
   ]
  },
  {
   "cell_type": "code",
   "execution_count": null,
   "metadata": {
    "collapsed": true
   },
   "outputs": [],
   "source": [
    "broswer로 띄워서 동적인거 가져옴."
   ]
  }
 ],
 "metadata": {
  "kernelspec": {
   "display_name": "Python 3",
   "language": "python",
   "name": "python3"
  },
  "language_info": {
   "codemirror_mode": {
    "name": "ipython",
    "version": 3
   },
   "file_extension": ".py",
   "mimetype": "text/x-python",
   "name": "python",
   "nbconvert_exporter": "python",
   "pygments_lexer": "ipython3",
   "version": "3.6.2"
  }
 },
 "nbformat": 4,
 "nbformat_minor": 2
}
