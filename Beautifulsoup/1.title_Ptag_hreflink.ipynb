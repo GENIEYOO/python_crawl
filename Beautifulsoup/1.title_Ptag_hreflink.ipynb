{
 "cells": [
  {
   "cell_type": "code",
   "execution_count": 1,
   "metadata": {},
   "outputs": [
    {
     "name": "stdout",
     "output_type": "stream",
     "text": [
      "/\n",
      "#\n",
      "/\n",
      "/+=1/\n",
      "/store/python-hoodie/\n",
      "/community/\n",
      "/login/\n",
      "/register/\n",
      "/\n",
      "/+=1/\n",
      "/store/python-hoodie/\n",
      "/community/\n",
      "/login/\n",
      "/register/\n",
      "https://www.crummy.com/software/BeautifulSoup/bs4/doc/\n",
      "/sitemap.xml\n",
      "#\n",
      "#\n",
      "#\n",
      "/support-donate/\n",
      "/consulting/\n",
      "https://www.facebook.com/pythonprogramming.net/\n",
      "https://twitter.com/sentdex\n",
      "https://plus.google.com/+sentdex\n",
      "/about/tos/\n",
      "/about/privacy-policy/\n",
      "https://xkcd.com/353/\n"
     ]
    }
   ],
   "source": [
    "import bs4 as bs\n",
    "import urllib.request\n",
    "\n",
    "sauce = urllib.request.urlopen('https://pythonprogramming.net/parsememcparseface/').read()\n",
    "soup = bs.BeautifulSoup(sauce, 'lxml')\n",
    "\n",
    "# print(soup.title)\n",
    "# print(soup.p)\n",
    "# print(soup.find_all('p'))\n",
    "\n",
    "# for i in soup.find_all('p'):\n",
    "#     print (i.string)\n",
    "\n",
    "# print(soup.get_text())\n",
    "\n",
    "for url in soup.find_all('a'):\n",
    "    print (url.get('href'))\n"
   ]
  },
  {
   "cell_type": "code",
   "execution_count": null,
   "metadata": {
    "collapsed": true
   },
   "outputs": [],
   "source": []
  }
 ],
 "metadata": {
  "kernelspec": {
   "display_name": "Python 3",
   "language": "python",
   "name": "python3"
  },
  "language_info": {
   "codemirror_mode": {
    "name": "ipython",
    "version": 3
   },
   "file_extension": ".py",
   "mimetype": "text/x-python",
   "name": "python",
   "nbconvert_exporter": "python",
   "pygments_lexer": "ipython3",
   "version": "3.6.2"
  }
 },
 "nbformat": 4,
 "nbformat_minor": 2
}
