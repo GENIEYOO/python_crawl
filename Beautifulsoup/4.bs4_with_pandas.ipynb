{
 "cells": [
  {
   "cell_type": "markdown",
   "metadata": {},
   "source": [
    "beautifulsoup with pandas"
   ]
  },
  {
   "cell_type": "code",
   "execution_count": 3,
   "metadata": {
    "collapsed": true
   },
   "outputs": [],
   "source": [
    "import bs4 as bs\n",
    "import urllib.request\n",
    "import pandas as pd\n",
    "sauce = urllib.request.urlopen('https://pythonprogramming.net/parsememcparseface/').read()\n",
    "soup = bs.BeautifulSoup(sauce, 'lxml')\n"
   ]
  },
  {
   "cell_type": "code",
   "execution_count": 4,
   "metadata": {},
   "outputs": [
    {
     "name": "stdout",
     "output_type": "stream",
     "text": [
      "              0                1           2\n",
      "0  Program Name  Internet Points    Kittens?\n",
      "1        Python        932914021  Definitely\n",
      "2        Pascal              532    Unlikely\n",
      "3          Lisp             1522   Uncertain\n",
      "4            D#               12    Possibly\n",
      "5         Cobol                3         No.\n",
      "6       Fortran            52124        Yes.\n",
      "7       Haskell               24        lol.\n"
     ]
    }
   ],
   "source": [
    "dfs = pd.read_html('https://pythonprogramming.net/parsememcparseface/')\n",
    "#판다스형식으로 html을 읽는다.\n",
    "#판다스는 그 페이지의 모든 table dataframe가져옴\n",
    "for df in dfs:\n",
    "    print(df)"
   ]
  },
  {
   "cell_type": "code",
   "execution_count": 6,
   "metadata": {},
   "outputs": [
    {
     "name": "stdout",
     "output_type": "stream",
     "text": [
      "  Program Name  Internet Points    Kittens?\n",
      "0       Python        932914021  Definitely\n",
      "1       Pascal              532    Unlikely\n",
      "2         Lisp             1522   Uncertain\n",
      "3           D#               12    Possibly\n",
      "4        Cobol                3         No.\n",
      "5      Fortran            52124        Yes.\n",
      "6      Haskell               24        lol.\n"
     ]
    }
   ],
   "source": [
    "dfs = pd.read_html('https://pythonprogramming.net/parsememcparseface/', header=0)\n",
    "#header를 인덱스 0으로\n",
    "#판다스형식으로 html을 읽는다.\n",
    "#판다스는 그 페이지의 모든 table dataframe가져옴\n",
    "for df in dfs:\n",
    "    print(df)"
   ]
  },
  {
   "cell_type": "markdown",
   "metadata": {},
   "source": [
    "sitemaps = maps of all the urls on you website"
   ]
  },
  {
   "cell_type": "code",
   "execution_count": null,
   "metadata": {
    "collapsed": true
   },
   "outputs": [],
   "source": []
  }
 ],
 "metadata": {
  "kernelspec": {
   "display_name": "Python 3",
   "language": "python",
   "name": "python3"
  },
  "language_info": {
   "codemirror_mode": {
    "name": "ipython",
    "version": 3
   },
   "file_extension": ".py",
   "mimetype": "text/x-python",
   "name": "python",
   "nbconvert_exporter": "python",
   "pygments_lexer": "ipython3",
   "version": "3.6.2"
  }
 },
 "nbformat": 4,
 "nbformat_minor": 2
}
